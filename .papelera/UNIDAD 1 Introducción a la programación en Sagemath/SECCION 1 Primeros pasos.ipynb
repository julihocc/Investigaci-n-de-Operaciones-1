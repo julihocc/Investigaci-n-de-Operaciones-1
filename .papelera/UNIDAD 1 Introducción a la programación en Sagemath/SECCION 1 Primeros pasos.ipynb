{
 "cells": [
  {
   "cell_type": "markdown",
   "metadata": {},
   "source": [
    "# Primeros pasos\n",
    "\n",
    "## El programa de Sagemath\n",
    "\n",
    "### Una herramienta para las matemáticas\n",
    "\n",
    "Sage se esfuerza por proporcionar un acceso consistente y uniforme a funciones en una amplia área de las matemáticas, que van desde la teoría de grupos hasta el análisis numérico, y más allá: visualización en dos y tres dimensiones, animación, redes, bases de datos, ... \n",
    "\n",
    "Usando una sola pieza unificada de software libera al matemático (en ciernes) de tener que transferir datos entre varias herramientas y aprender la sintaxis de varios lenguajes de programación.\n",
    "\n",
    "## Sage como Calculadora\n",
    "\n",
    "### Primeros Cálculos\n",
    "\n",
    "A continuación realizaremos algunas operaciones aritméticas básicas para introducirte al uso de este software. Comencemos haciendo una suma sencilla. \n",
    "\n",
    "En la celdas marcadas como `Code`, escribirás las instrucciones para la máquina, usando un lenguaje de programación. En nuestro caso estaremos usando `SageMath`. Se pueden escribir muchas instrucciones en una celda, y a este conjunto de intrucciones le llamaremos **bloque de código**. \n",
    "\n",
    "Al ejecutarse el bloque de código, podemos instruir a la máquina a que nos muestre algunos resultados. Por ejemplo, en el siguiente bloque realizamos varias operaciones aritmética e imprimimos el resultado usando la función `print`."
   ]
  },
  {
   "cell_type": "code",
   "execution_count": 2,
   "metadata": {},
   "outputs": [
    {
     "name": "stdout",
     "output_type": "stream",
     "text": [
      "2\n",
      "34\n",
      "8\n",
      "8\n",
      "10/3\n"
     ]
    }
   ],
   "source": [
    "print( 1 + 1 )\n",
    "print( ( 1 + 2 * (3 + 5) ) * 2 )\n",
    "print(2^3)\n",
    "print(2**3)\n",
    "print(20/6)"
   ]
  },
  {
   "cell_type": "markdown",
   "metadata": {},
   "source": [
    "Si no utilizamos la función `print`, igual se ejecutarán las instrucciones, pero solo aparecerá en pantalla el resultado de la última operación. "
   ]
  },
  {
   "cell_type": "code",
   "execution_count": 4,
   "metadata": {},
   "outputs": [
    {
     "data": {
      "text/plain": [
       "10/3"
      ]
     },
     "execution_count": 4,
     "metadata": {},
     "output_type": "execute_result"
    }
   ],
   "source": [
    "1 + 1 \n",
    "( 1 + 2 * (3 + 5) ) * 2 \n",
    "2^3\n",
    "2**3\n",
    "20/6"
   ]
  },
  {
   "cell_type": "markdown",
   "metadata": {},
   "source": [
    "Observa que en la última operación, se imprime la fracción simplificada. Esto es porque Sagemath es un potente sistema algebraico de cómputo diseñado para resolver problemas simbolicos. Pero en ocasiones requerimos los valores numéricos. Para eso podemos usar decimales, que se distinguen al usar un punto decimal. "
   ]
  },
  {
   "cell_type": "code",
   "execution_count": 5,
   "metadata": {},
   "outputs": [
    {
     "data": {
      "text/plain": [
       "3.33333333333333"
      ]
     },
     "execution_count": 5,
     "metadata": {},
     "output_type": "execute_result"
    }
   ],
   "source": [
    "20./6"
   ]
  },
  {
   "cell_type": "markdown",
   "metadata": {},
   "source": [
    "Otra manera de convertir una fracción a decimales es utilizando una función ya implementada en SageMath. "
   ]
  },
  {
   "cell_type": "code",
   "execution_count": 6,
   "metadata": {},
   "outputs": [
    {
     "data": {
      "text/plain": [
       "1.42857142857143"
      ]
     },
     "execution_count": 6,
     "metadata": {},
     "output_type": "execute_result"
    }
   ],
   "source": [
    "numerical_approx(20/14)"
   ]
  },
  {
   "cell_type": "markdown",
   "metadata": {},
   "source": [
    "### Funciones elementales y constantes universales\n",
    "\n",
    "SageMath nos proporciona funciones y constantes preconstruidas para resolver problemas matemáticos. Por ejemplo, evaluemos algunas funciones trigonométricas."
   ]
  },
  {
   "cell_type": "code",
   "execution_count": 7,
   "metadata": {},
   "outputs": [
    {
     "data": {
      "text/plain": [
       "0"
      ]
     },
     "execution_count": 7,
     "metadata": {},
     "output_type": "execute_result"
    }
   ],
   "source": [
    "sin(pi)"
   ]
  },
  {
   "cell_type": "code",
   "execution_count": 8,
   "metadata": {},
   "outputs": [
    {
     "data": {
      "text/plain": [
       "sqrt(3)"
      ]
     },
     "execution_count": 8,
     "metadata": {},
     "output_type": "execute_result"
    }
   ],
   "source": [
    "tan(pi/3)"
   ]
  },
  {
   "cell_type": "code",
   "execution_count": 9,
   "metadata": {},
   "outputs": [
    {
     "data": {
      "text/plain": [
       "1/4*pi"
      ]
     },
     "execution_count": 9,
     "metadata": {},
     "output_type": "execute_result"
    }
   ],
   "source": [
    "arctan(1)"
   ]
  },
  {
   "cell_type": "code",
   "execution_count": 10,
   "metadata": {},
   "outputs": [
    {
     "data": {
      "text/plain": [
       "-1"
      ]
     },
     "execution_count": 10,
     "metadata": {},
     "output_type": "execute_result"
    }
   ],
   "source": [
    "I**2"
   ]
  },
  {
   "cell_type": "code",
   "execution_count": 11,
   "metadata": {},
   "outputs": [
    {
     "data": {
      "text/plain": [
       "1"
      ]
     },
     "execution_count": 11,
     "metadata": {},
     "output_type": "execute_result"
    }
   ],
   "source": [
    "exp(2*I*pi)"
   ]
  },
  {
   "cell_type": "markdown",
   "metadata": {},
   "source": [
    "No siempre obtenemos los resultados deseados, por lo que podemos forzar la simplificación de algunas expresiones algebraicas. "
   ]
  },
  {
   "cell_type": "code",
   "execution_count": 12,
   "metadata": {},
   "outputs": [
    {
     "data": {
      "text/plain": [
       "arccos(1/2*sqrt(3))"
      ]
     },
     "execution_count": 12,
     "metadata": {},
     "output_type": "execute_result"
    }
   ],
   "source": [
    "arccos(sin(pi/3))"
   ]
  },
  {
   "cell_type": "code",
   "execution_count": 13,
   "metadata": {},
   "outputs": [
    {
     "data": {
      "text/plain": [
       "1/6*pi"
      ]
     },
     "execution_count": 13,
     "metadata": {},
     "output_type": "execute_result"
    }
   ],
   "source": [
    "simplify(arccos(sin(pi/3)))"
   ]
  },
  {
   "cell_type": "code",
   "execution_count": 14,
   "metadata": {},
   "outputs": [
    {
     "data": {
      "text/plain": [
       "0.523598775598299"
      ]
     },
     "execution_count": 14,
     "metadata": {},
     "output_type": "execute_result"
    }
   ],
   "source": [
    "numerical_approx(arccos(sin(pi/3)))"
   ]
  },
  {
   "cell_type": "markdown",
   "metadata": {},
   "source": [
    "### Ayuda en línea y completación automática\n",
    "\n",
    "Si tienes dudas sobre alguna función, constante o comando, puedes acceder a su documentación utilizando el símbolo `?`."
   ]
  },
  {
   "cell_type": "raw",
   "metadata": {},
   "source": [
    "sin?"
   ]
  },
  {
   "cell_type": "markdown",
   "metadata": {},
   "source": [
    "También puedes autocompletar el nombre de un comando ingresando las primeras letras seguidas de la tecla `<tab>`."
   ]
  },
  {
   "cell_type": "raw",
   "metadata": {},
   "source": [
    "arc<tab>"
   ]
  },
  {
   "cell_type": "markdown",
   "metadata": {},
   "source": [
    "### Variables\n",
    "\n",
    "Algunas veces queremos guardar un resultado, para reutilizarlo más tarde. En este caso, utilizamos `variables`, que son nombres que le damos a un espacio en la memoría, donde se localiza el resultado deseado. Para poder acceder al resultado, lo asignamos a la variable con el operador `=`."
   ]
  },
  {
   "cell_type": "code",
   "execution_count": 17,
   "metadata": {},
   "outputs": [],
   "source": [
    "y = 1 + 2"
   ]
  },
  {
   "cell_type": "code",
   "execution_count": 18,
   "metadata": {},
   "outputs": [
    {
     "data": {
      "text/plain": [
       "3"
      ]
     },
     "execution_count": 18,
     "metadata": {},
     "output_type": "execute_result"
    }
   ],
   "source": [
    "y"
   ]
  },
  {
   "cell_type": "code",
   "execution_count": 19,
   "metadata": {},
   "outputs": [
    {
     "data": {
      "text/plain": [
       "15"
      ]
     },
     "execution_count": 19,
     "metadata": {},
     "output_type": "execute_result"
    }
   ],
   "source": [
    "(2+y)*y"
   ]
  },
  {
   "cell_type": "markdown",
   "metadata": {},
   "source": [
    "Debemos ser cuidados, ya que podemos sobreescribir constantes predefinidas. "
   ]
  },
  {
   "cell_type": "code",
   "execution_count": 20,
   "metadata": {},
   "outputs": [
    {
     "data": {
      "text/plain": [
       "pi"
      ]
     },
     "execution_count": 20,
     "metadata": {},
     "output_type": "execute_result"
    }
   ],
   "source": [
    "pi"
   ]
  },
  {
   "cell_type": "code",
   "execution_count": 21,
   "metadata": {},
   "outputs": [
    {
     "data": {
      "text/plain": [
       "3"
      ]
     },
     "execution_count": 21,
     "metadata": {},
     "output_type": "execute_result"
    }
   ],
   "source": [
    "pi = 3\n",
    "pi"
   ]
  },
  {
   "cell_type": "code",
   "execution_count": 24,
   "metadata": {},
   "outputs": [
    {
     "data": {
      "text/plain": [
       "0.141120008059867"
      ]
     },
     "execution_count": 24,
     "metadata": {},
     "output_type": "execute_result"
    }
   ],
   "source": [
    "numerical_approx(sin(pi))"
   ]
  },
  {
   "cell_type": "markdown",
   "metadata": {},
   "source": [
    "Para restaurar todas las variables y funciones predefinidas, utilizaremos la función `restore`."
   ]
  },
  {
   "cell_type": "code",
   "execution_count": 25,
   "metadata": {},
   "outputs": [
    {
     "data": {
      "text/plain": [
       "0"
      ]
     },
     "execution_count": 25,
     "metadata": {},
     "output_type": "execute_result"
    }
   ],
   "source": [
    "restore()\n",
    "sin(pi)"
   ]
  },
  {
   "cell_type": "markdown",
   "metadata": {},
   "source": [
    "### Variables Simbólicas\n",
    "\n",
    "Además de las variables que ya definimos antes, en `SageMath` podemos utilizar variables simbólica. Estas no son simples nombres para localizar valores en la memoria, sino que son **objetos** que representan elementos de sistemas algebraicos y, por tanto, siguen las reglas de estos sistemas. \n",
    "\n",
    "Podemos definir una variable simbólica de la siguiente manera:"
   ]
  },
  {
   "cell_type": "code",
   "execution_count": 26,
   "metadata": {},
   "outputs": [
    {
     "data": {
      "text/plain": [
       "z"
      ]
     },
     "execution_count": 26,
     "metadata": {},
     "output_type": "execute_result"
    }
   ],
   "source": [
    "z = SR.var('z')\n",
    "z"
   ]
  },
  {
   "cell_type": "markdown",
   "metadata": {},
   "source": [
    "En este caso `SR` significa *Symbolic Ring*, que es una estructura algebraica ampliamente utilizada en matemáticas computacionales. Ejemplos de anillos simbólicos son los enteros o los polinomios. "
   ]
  },
  {
   "cell_type": "code",
   "execution_count": 27,
   "metadata": {},
   "outputs": [
    {
     "data": {
      "text/plain": [
       "2*z"
      ]
     },
     "execution_count": 27,
     "metadata": {},
     "output_type": "execute_result"
    }
   ],
   "source": [
    "z+z"
   ]
  },
  {
   "cell_type": "code",
   "execution_count": 28,
   "metadata": {},
   "outputs": [
    {
     "data": {
      "text/plain": [
       "2*z + 3"
      ]
     },
     "execution_count": 28,
     "metadata": {},
     "output_type": "execute_result"
    }
   ],
   "source": [
    "z+z+3"
   ]
  },
  {
   "cell_type": "code",
   "execution_count": 29,
   "metadata": {},
   "outputs": [
    {
     "data": {
      "text/plain": [
       "z^2 + 2*z + 3"
      ]
     },
     "execution_count": 29,
     "metadata": {},
     "output_type": "execute_result"
    }
   ],
   "source": [
    "z*z+z+z+3"
   ]
  },
  {
   "cell_type": "markdown",
   "metadata": {},
   "source": [
    "El argumento del constructor `.var` es una *cadena de caractéres*, es decir, una secuencia de letras que forman un texto. Por ejemplo `'z'` solo representa la letra $z$ y no alguna variable. En el caso de nuestra variable, esta cadena de caractéres es lo que se imprimirá en pantalla y diremos que la presentación de la variable en pantalla.\n",
    "\n",
    "Aunque es común utilizar el nombre de la variable como su representación, a veces es útil representar la varible con una texto diferente. Por ejemplo, para la fórmula del de una cuerpo en caída libre."
   ]
  },
  {
   "cell_type": "code",
   "execution_count": null,
   "metadata": {},
   "outputs": [],
   "source": []
  },
  {
   "cell_type": "code",
   "execution_count": 50,
   "metadata": {},
   "outputs": [
    {
     "data": {
      "text/plain": [
       "-1/2*aceleración_de_la_gravedad*tiempo^2 + tiempo*velocidad_inicial + altura_inicial"
      ]
     },
     "execution_count": 50,
     "metadata": {},
     "output_type": "execute_result"
    }
   ],
   "source": [
    "h0 = SR.var('altura_inicial')\n",
    "v0 = SR.var('velocidad_inicial')\n",
    "g = SR.var('aceleración_de_la_gravedad')\n",
    "t = SR.var('tiempo')\n",
    "\n",
    "h0 + v0*t-(1/2)*g*t^2"
   ]
  },
  {
   "cell_type": "markdown",
   "metadata": {},
   "source": [
    "En ocasiones, queremos que en la pantalla se imprima algún símbolo especial. Por ejemplo, si quiere escribir símbolos matemáticos, puedo utilizar *código Latex*, que es el lenguaje estándar para escribir textos matemáticos profesionales. No nos adentraremos en más detalles, pero podemos escribir la letra griega $\\tau$ (tau) utilizando este código en una celda *Markdown*: `$\\tau$`.\n",
    "\n",
    "Esto es especialmente útil cuando requiero que alguna variable simbólica se imprima en pantalla como un símbolo matemático particular. Por ejemplo, en el código puedo utilizar `tau`, pero deseo que en pantalla se imprima $\\tau$. "
   ]
  },
  {
   "cell_type": "code",
   "execution_count": 39,
   "metadata": {},
   "outputs": [
    {
     "data": {
      "text/html": [
       "<html><script type=\"math/tex; mode=display\">\\newcommand{\\Bold}[1]{\\mathbf{#1}}{\\tau}</script></html>"
      ],
      "text/plain": [
       "tau"
      ]
     },
     "metadata": {},
     "output_type": "display_data"
    }
   ],
   "source": [
    "tau = SR.var('tau', latex_name = '\\\\tau')\n",
    "show(tau)"
   ]
  },
  {
   "cell_type": "code",
   "execution_count": null,
   "metadata": {},
   "outputs": [],
   "source": []
  }
 ],
 "metadata": {
  "kernelspec": {
   "display_name": "SageMath 9.1",
   "language": "sage",
   "name": "sagemath"
  },
  "language_info": {
   "codemirror_mode": {
    "name": "ipython",
    "version": 3
   },
   "file_extension": ".py",
   "mimetype": "text/x-python",
   "name": "python",
   "nbconvert_exporter": "python",
   "pygments_lexer": "ipython3",
   "version": "3.7.3"
  }
 },
 "nbformat": 4,
 "nbformat_minor": 2
}
